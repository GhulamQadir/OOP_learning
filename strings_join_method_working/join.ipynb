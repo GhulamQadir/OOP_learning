{
 "cells": [
  {
   "cell_type": "markdown",
   "id": "3e447197",
   "metadata": {},
   "source": [
    "### **string_a + string_b (Inside a loop: s = s + new_part)**"
   ]
  },
  {
   "cell_type": "code",
   "execution_count": null,
   "id": "0bdb0a59",
   "metadata": {},
   "outputs": [],
   "source": [
    "\"\"\"\n",
    "INEFFICIENT CONCATENATION (O(N²) Complexity)\n",
    "\n",
    "The '+' operator is simple but highly inefficient for repeated use in a loop.\n",
    "This inefficiency is a direct result of string immutability in Python, which forces\n",
    "a resource-intensive process in every single iteration.\n",
    "\n",
    "DETAILED STEP-BY-STEP PROCESS (e.g., going from 'AB' to 'ABC'):\n",
    "Suppose 's' is 'AB' and 'new_part' is 'C'.\n",
    "\n",
    "1.  CALCULATE NEW LENGTH: Python determines the combined length (len('AB') + len('C') = 3).\n",
    "\n",
    "2.  ALLOCATE NEW SPACE: Python allocates a brand new chunk of memory sufficient\n",
    "    for the 3 characters of the final string. The old memory space for 'AB' is ignored.\n",
    "\n",
    "3.  COPY OLD STRING: The entire content of the existing (growing) string ('AB') is\n",
    "    copied character by character into the beginning of the newly allocated memory.\n",
    "\n",
    "4.  COPY NEW PART: The content of 'new_part' ('C') is copied immediately after the\n",
    "    old string in the new memory block.\n",
    "\n",
    "5.  REASSIGN REFERENCE: The variable 's' is updated to point to this new memory block\n",
    "    containing 'ABC'. The memory block for the old string ('AB') is unreferenced and\n",
    "    scheduled for Garbage Collection.\n",
    "\n",
    "RESULT:\n",
    "As the string grows, the amount of copying required in Step 3 increases linearly with\n",
    "each iteration. This repeated copying cost results in the overall quadratic time\n",
    "complexity of O(N²), making it very slow for large string assembly.\n",
    "\"\"\""
   ]
  },
  {
   "cell_type": "code",
   "execution_count": 5,
   "id": "8773f6c1",
   "metadata": {},
   "outputs": [
    {
     "name": "stdout",
     "output_type": "stream",
     "text": [
      "0 1 2 3 4 \n"
     ]
    }
   ],
   "source": [
    "result = \"\"\n",
    "for i in range(5):\n",
    "    result += str(i)+\" \"\n",
    "print(result)"
   ]
  },
  {
   "cell_type": "markdown",
   "id": "050a1a86",
   "metadata": {},
   "source": [
    "### **str.join(iterable)**"
   ]
  },
  {
   "cell_type": "code",
   "execution_count": null,
   "id": "894fda5d",
   "metadata": {},
   "outputs": [],
   "source": [
    "\"\"\"\n",
    "OPTIMIZED STRING ASSEMBLY (O(N) Complexity)\n",
    "The str.join() method is the fastest and most memory-efficient way to concatenate\n",
    "a large number of strings in Python. It avoids the O(N^2) cost of the '+' operator\n",
    "by performing two highly efficient linear passes:\n",
    "\n",
    "1.  FIRST PASS (Length Pre-calculation - O(M)):\n",
    "    Python iterates through all M items in the iterable (list, generator, etc.) to\n",
    "    calculate the exact total length (N) of the final string. This includes summing\n",
    "    the length of all component strings and the length of the M-1 separators.\n",
    "\n",
    "2.  SECOND PASS (Construction - O(N)):\n",
    "    Python allocates the necessary memory for the final string ONCE, based on the\n",
    "    pre-calculated N length. It then iterates through the iterable a second time,\n",
    "    copying all component strings and separators directly into that single,\n",
    "    pre-allocated memory buffer.\n",
    "\n",
    "RESULT:\n",
    "The overall time complexity is O(N) (linear), making it scalable and highly efficient.\n",
    "This method is mandatory for building strings iteratively or from large sequences.\n",
    "\"\"\""
   ]
  },
  {
   "cell_type": "code",
   "execution_count": null,
   "id": "bdcff435",
   "metadata": {},
   "outputs": [
    {
     "name": "stdout",
     "output_type": "stream",
     "text": [
      "Python JavaScript Java C++\n"
     ]
    }
   ],
   "source": [
    "# with list(iterable)\n",
    "prog_languages = [\"Python\", \"JavaScript\", \"Java\", \"C++\"]\n",
    "joined_string = \" \".join(prog_languages)\n",
    "print(joined_string)"
   ]
  },
  {
   "cell_type": "code",
   "execution_count": 8,
   "id": "dcf483b0",
   "metadata": {},
   "outputs": [
    {
     "name": "stdout",
     "output_type": "stream",
     "text": [
      "0 1 2 3 4\n"
     ]
    }
   ],
   "source": [
    "# with list comprehension\n",
    "joined_string = \" \".join([str(i) for i in range(5)])\n",
    "print(joined_string) "
   ]
  },
  {
   "cell_type": "markdown",
   "id": "9cacb9bb",
   "metadata": {},
   "source": [
    "### **str.join(generator_expression)**"
   ]
  },
  {
   "cell_type": "code",
   "execution_count": null,
   "id": "997b16bb",
   "metadata": {},
   "outputs": [],
   "source": [
    "\"\"\"\n",
    "GENERATOR CACHING MECHANISM (Unstable Iterables: O(N))\n",
    "\n",
    "Used for unstable iterables (e.g., generators, generator expressions) which are\n",
    "single-use and cannot be rewound. The standard two-pass system is modified to prevent failure.\n",
    "\n",
    "EXAMPLE OF GENERATOR EXPRESSION SYNTAX:\n",
    "    (\" \".join(str(n * 2) for n in range(10)))\n",
    "\n",
    "PROCESS FLOW (Interleaved Demand and Supply):\n",
    "The loops operate in tandem; the generator's code is NEVER run completely at once.\n",
    "\n",
    "1.  DEMAND: The internal loop of str.join() begins an iteration and calls the generator's\n",
    "    __next__() method (the demand).\n",
    "\n",
    "2.  SUPPLY: The generator resumes execution and runs exactly one step of its control loop\n",
    "    (e.g., one iteration of 'for n in range(10)'). It executes the expression, yields\n",
    "    one string value (the supply), and immediately pauses.\n",
    "\n",
    "3.  CACHING & CONSUMPTION: This single-step process continues. The generator is fully\n",
    "    consumed, and the yielded strings (and their lengths) are stored in a hidden,\n",
    "    temporary list-like structure (the cache) because the generator cannot be rewound\n",
    "    for a second pass.\n",
    "\n",
    "4.  CONSTRUCTION: Once the cache is full, memory is allocated ONCE for the final string,\n",
    "    and the components are copied from the temporary cache directly into the final\n",
    "    memory block.\n",
    "\n",
    "RESULT:\n",
    "This interleaved, demand-supply behavior maintains the overall O(N) efficiency by\n",
    "avoiding O(N²) concatenation, ensuring both laziness and speed.\n",
    "\n",
    "- Interleaved means two or more tasks are mixed together by taking turns, one after the other, \n",
    "giving the illusion of running at the same time. \n",
    "\"\"\""
   ]
  },
  {
   "cell_type": "code",
   "execution_count": null,
   "id": "30b7742d",
   "metadata": {},
   "outputs": [
    {
     "name": "stdout",
     "output_type": "stream",
     "text": [
      "2 4 6 8 10 12 14 16 18\n"
     ]
    }
   ],
   "source": [
    "# With Generator Expression \n",
    "print(\" \".join(str(n * 2) for n in range(1,10)))"
   ]
  },
  {
   "cell_type": "code",
   "execution_count": null,
   "id": "28d28f6f",
   "metadata": {},
   "outputs": [],
   "source": [
    "# The actual code showing the generator being consumed by next()\n",
    "\n",
    "gen_iterator = (char + str(i) for i, char in enumerate(\"ABC\"))\n",
    "\n",
    "# 1. Call 1\n",
    "item1 = next(gen_iterator)\n",
    "print(f\"1st Call (join() starts): {item1}\")\n",
    "\n",
    "# 2. Call 2\n",
    "item2 = next(gen_iterator)\n",
    "print(f\"2nd Call (join() adds separator): {item2}\")\n",
    "\n",
    "# 3. Call 3\n",
    "item3 = next(gen_iterator)\n",
    "print(f\"3rd Call (join() adds next item): {item3}\")\n",
    "\n",
    "# 4. Final join() operation completes the string:\n",
    "final_string = \"-\".join([item1, item2, item3])\n",
    "print(f\"\\nFinal join() string: {final_string}\")\n",
    "\n",
    "# 5. The generator is now exhausted, just like after join() finishes\n",
    "try:\n",
    "    next(gen_iterator)\n",
    "except StopIteration:\n",
    "    print(\"\\nGenerator is exhausted (join() has finished its job).\")"
   ]
  },
  {
   "cell_type": "code",
   "execution_count": 11,
   "id": "ba898092",
   "metadata": {},
   "outputs": [
    {
     "name": "stdout",
     "output_type": "stream",
     "text": [
      "333332833333500000\n"
     ]
    }
   ],
   "source": [
    "# The loop runs in tandem with the generator\n",
    "total = sum(i**2 for i in range(1000000))\n",
    "print(total)"
   ]
  },
  {
   "cell_type": "code",
   "execution_count": null,
   "id": "f6df190d",
   "metadata": {},
   "outputs": [],
   "source": [
    "\"\"\"\n",
    "GENERATOR FUNCTION vs. GENERATOR EXPRESSION\n",
    "\n",
    "Both mechanisms create a generator object—an efficient, lazy (on-demand) iterable\n",
    "that yields values one at a time using the __next__() method. They are primarily\n",
    "distinguished by their syntax and use case.\n",
    "\n",
    "\n",
    "1. GENERATOR FUNCTION (Generator)\n",
    "\n",
    "A generator is defined using the standard 'def' keyword and MUST contain one or\n",
    "more 'yield' statements.\n",
    "\n",
    "SYNTAX:\n",
    "    def my_generator(n):\n",
    "        # Can include complex setup/cleanup logic\n",
    "        for i in range(n):\n",
    "            yield i  # Pauses execution and returns value\n",
    "\n",
    "USE CASE:\n",
    "Used for more complex logic, managing state variables, handling conditional\n",
    "branching (if/else), or executing specific setup/cleanup code.\n",
    "\n",
    "\n",
    "2. GENERATOR EXPRESSION\n",
    "\n",
    "A generator expression is a concise, inline syntax that automatically creates a\n",
    "generator object without needing a 'def' block or the explicit 'yield' keyword.\n",
    "\n",
    "SYNTAX:\n",
    "    (expression for item in iterable)\n",
    "\n",
    "    # Example: (i * 2 for i in range(10))\n",
    "\n",
    "USE CASE:\n",
    "Used for simple, straightforward iteration logic that can be written on a single line.\n",
    "They are often passed directly as arguments to functions (like str.join(), sum(), etc.)\n",
    "to save memory and code space.\n",
    "\n",
    "KEY DIFFERENCE:\n",
    "The generator expression is essentially syntactic sugar for the simplest form of\n",
    "a generator function.\n",
    "\"\"\""
   ]
  }
 ],
 "metadata": {
  "kernelspec": {
   "display_name": "Python 3",
   "language": "python",
   "name": "python3"
  },
  "language_info": {
   "codemirror_mode": {
    "name": "ipython",
    "version": 3
   },
   "file_extension": ".py",
   "mimetype": "text/x-python",
   "name": "python",
   "nbconvert_exporter": "python",
   "pygments_lexer": "ipython3",
   "version": "3.12.9"
  }
 },
 "nbformat": 4,
 "nbformat_minor": 5
}
