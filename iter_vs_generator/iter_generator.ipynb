{
 "cells": [
  {
   "cell_type": "markdown",
   "id": "0e4d0d2c",
   "metadata": {},
   "source": [
    "## **Difference (Iterator vs Generator):**\n",
    "1. **Iterator**: \n",
    "   - Implemented using a class with __iter__() and __next__() methods.\n",
    "   - Maintains its internal state using instance variables.\n",
    "   - Must explicitly raise StopIteration to signal the end of iteration.\n",
    "   \n",
    "2. **Generator**:\n",
    "   - Implemented using a function with the 'yield' keyword.\n",
    "   - Automatically handles iteration state and StopIteration internally.\n",
    "   - More concise and memory-efficient for simple iteration logic."
   ]
  },
  {
   "cell_type": "code",
   "execution_count": null,
   "id": "b817c3bf",
   "metadata": {},
   "outputs": [],
   "source": [
    "class SquareIterator:\n",
    "    \"\"\"\n",
    "    A custom iterator class that generates squares of numbers from 1 up to (value - 1).\n",
    "    \"\"\"\n",
    "    def __init__(self, value):\n",
    "        # Initialize the iterator with a value and validate it\n",
    "        self.__value = self._validate_value(value)\n",
    "        self.__index = 0  # Keeps track of the current index position\n",
    "        \n",
    "    def _validate_value(self, value):\n",
    "        \"\"\"Validate the input value to ensure it's a positive integer.\"\"\"\n",
    "        if not isinstance(value, int):\n",
    "            raise TypeError(\"Value type must be int\")\n",
    "        if value < 1:\n",
    "            raise TypeError(\"Value must be greater than zero\")\n",
    "        return value\n",
    "        \n",
    "    def __iter__(self):\n",
    "        \"\"\"Return the iterator object (itself) after resetting.\"\"\"\n",
    "        self._reset()\n",
    "        return self\n",
    "    \n",
    "    def __next__(self):\n",
    "        \"\"\"Return the next square number or raise StopIteration when done.\"\"\"\n",
    "        # Check if the next index is still within range\n",
    "        if self.__index < self.__value-1:\n",
    "            self.__index += 1\n",
    "            return self.__index **2            \n",
    "\n",
    "        # If limit reached, raise StopIteration to stop iteration\n",
    "        raise StopIteration()\n",
    "    \n",
    "    def _reset(self):\n",
    "        \"\"\"Reset the iterator index to start over.\"\"\"\n",
    "        self.__index = 0 "
   ]
  },
  {
   "cell_type": "code",
   "execution_count": null,
   "id": "f7f75322",
   "metadata": {},
   "outputs": [
    {
     "name": "stdout",
     "output_type": "stream",
     "text": [
      "1\n",
      "4\n",
      "9\n",
      "16\n",
      "25\n"
     ]
    }
   ],
   "source": [
    "squares = SquareIterator(6)  # Create iterator for squares up to 5\n",
    "squares_it = iter(squares)\n",
    "print(next(squares_it))   # 1^2 = 1\n",
    "print(next(squares_it))   # 2^2 = 4\n",
    "print(next(squares_it))   # 3^2 = 9\n",
    "print(next(squares_it))   # 4^2 = 16\n",
    "print(next(squares_it))   # 5^2 = 25\n",
    "# Next call to next(squares_it) would raise StopIteration"
   ]
  },
  {
   "cell_type": "markdown",
   "id": "21838fa8",
   "metadata": {},
   "source": [
    "#### **Demonstrating the Benefit of _reset() in __iter__()**"
   ]
  },
  {
   "cell_type": "code",
   "execution_count": null,
   "id": "1e5e584e",
   "metadata": {},
   "outputs": [
    {
     "name": "stdout",
     "output_type": "stream",
     "text": [
      "1\n",
      "4\n"
     ]
    }
   ],
   "source": [
    "# Create the same iterator object again\n",
    "squares_iter_2 = iter(squares)\n",
    "# Because __iter__() calls _reset(), this resets the internal index to 0.\n",
    "# So iteration will start again from the beginning, even though we're \n",
    "# using the same 'squares' object.\n",
    "\n",
    "print(next(squares_it))    # Output: 1  (starts again from 1^2)\n",
    "print(next(squares_it))   "
   ]
  },
  {
   "cell_type": "code",
   "execution_count": null,
   "id": "b0ffd056",
   "metadata": {},
   "outputs": [],
   "source": [
    "'''\n",
    "# BENEFITS OF RESET:\n",
    "# By calling _reset() inside __iter__(), we ensure that:\n",
    "# - Every new call to iter(squares) starts a *fresh* iteration sequence.\n",
    "# - The same iterator object can be reused without manually resetting it.\n",
    "# - This behavior mimics built-in iterable types (like lists or ranges),\n",
    "#   where each new 'iter()' call begins iteration from the start.\n",
    "\n",
    "# Without the _reset() call:\n",
    "# - The iterator would continue from its previous state,\n",
    "#   meaning repeated calls to iter(squares) would NOT restart from 0.\n",
    "# - We will need to manually call _reset() to start over.\n",
    "'''"
   ]
  },
  {
   "cell_type": "markdown",
   "id": "3030c7c2",
   "metadata": {},
   "source": [
    "## **Using a Generator Function**\n",
    "- A generator function that yields squares of numbers from 1 up to (value - 1).\n",
    "    - No need for a class or explicit __iter__/__next__ methods.\n",
    "    - The function automatically remembers its state between yields.\n",
    "    - When all values are yielded, Python automatically raises StopIteration.\n"
   ]
  },
  {
   "cell_type": "code",
   "execution_count": null,
   "id": "05188b96",
   "metadata": {},
   "outputs": [],
   "source": [
    "def _validate_input(value):\n",
    "    \"\"\"Validate the input value to ensure it's a positive integer.\"\"\"\n",
    "    if not isinstance(value, int):\n",
    "        raise TypeError(\"Value type must be int\")\n",
    "    if value < 1:\n",
    "        raise TypeError(\"Value must be greater than zero\")\n",
    "    return value\n",
    "\n",
    "def square_generator(value):\n",
    "    v = _validate_input(value)\n",
    "    for i in range(1,v):\n",
    "        yield i**2  # 'yield' pauses and resumes function state each call"
   ]
  },
  {
   "cell_type": "code",
   "execution_count": null,
   "id": "21e72bcb",
   "metadata": {},
   "outputs": [
    {
     "name": "stdout",
     "output_type": "stream",
     "text": [
      "1\n",
      "4\n",
      "9\n"
     ]
    }
   ],
   "source": [
    "generator = square_generator(4)\n",
    "print(next(generator))\n",
    "print(next(generator))\n",
    "print(next(generator))\n",
    "# Next call to next(generator) would raise StopIteration automatically"
   ]
  }
 ],
 "metadata": {
  "kernelspec": {
   "display_name": "Python 3",
   "language": "python",
   "name": "python3"
  },
  "language_info": {
   "codemirror_mode": {
    "name": "ipython",
    "version": 3
   },
   "file_extension": ".py",
   "mimetype": "text/x-python",
   "name": "python",
   "nbconvert_exporter": "python",
   "pygments_lexer": "ipython3",
   "version": "3.12.9"
  }
 },
 "nbformat": 4,
 "nbformat_minor": 5
}
