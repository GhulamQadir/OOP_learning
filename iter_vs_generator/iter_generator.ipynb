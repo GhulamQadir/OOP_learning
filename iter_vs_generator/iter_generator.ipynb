{
 "cells": [
  {
   "cell_type": "markdown",
   "id": "577e7ff1",
   "metadata": {},
   "source": [
    "\n",
    "### Understanding `iter()` and `next()` usage:\n",
    "- In Python, an object is called *iterable* if it implements the `__iter__()` method.\n",
    "- It is called an *iterator* if it implements **both** `__iter__()` and `__next__()` methods.\n",
    "- If an object defines both methods (like this class), it is **its own iterator**, so you can directly call `next()` on it.\n",
    "- **Example:**<br>\n",
    "    squares = SquareIterator(5)<br>\n",
    "    print(next(squares))   # Works! Because it's already an iterator\n",
    "- For *built-in iterables* (like list, tuple, set, etc.), you **must** call `iter()` first to get an iterator object.\n",
    "- This is because those objects only define `__iter__()` but not `__next__()`.\n",
    "\n",
    "- **Example:**<br>\n",
    "numbers = [1, 2, 3]<br>\n",
    "it = iter(numbers)<br>\n",
    "print(next(it))  # Works<br>\n",
    "print(next(numbers)) -> TypeError (list has no __next__ method)<br>\n",
    "\n",
    "- In a `for` loop, Python automatically:\n",
    "    1. Calls `iter()` on the object.\n",
    "    2. Keeps calling `next()` internally until `StopIteration` is raised.\n",
    "- So you don’t have to manually call `iter()` or `next()` inside a loop.\n",
    "\n",
    "#### Summary:\n",
    "    - Custom iterators (like this class): can use `next()` directly.\n",
    "    - Built-in iterables (like list, set): must use `iter()` to get an iterator.\n",
    "    - For-loops: handle `iter()` and `next()` implicitly."
   ]
  },
  {
   "cell_type": "code",
   "execution_count": 16,
   "id": "b817c3bf",
   "metadata": {},
   "outputs": [],
   "source": [
    "class SquareIterator:\n",
    "    \"\"\"\n",
    "    A custom iterator class that generates squares of numbers from 1 up to (value - 1).\n",
    "    \"\"\"\n",
    "    def __init__(self, value):\n",
    "        # Initialize the iterator with a value and validate it\n",
    "        self.__value = self._validate_value(value)\n",
    "        self.__index = 0  # Keeps track of the current index position\n",
    "        \n",
    "    def _validate_value(self, value):\n",
    "        \"\"\"Validate the input value to ensure it's a positive integer.\"\"\"\n",
    "        if not isinstance(value, int):\n",
    "            raise TypeError(\"Value type must be int\")\n",
    "        if value < 1:\n",
    "            raise TypeError(\"Value must be greater than zero\")\n",
    "        return value\n",
    "        \n",
    "    def __iter__(self):\n",
    "        \"\"\"\n",
    "        Return the iterator object (itself) after resetting.\n",
    "        This makes the class both iterable and its own iterator.\n",
    "        \"\"\"\n",
    "        self._reset()\n",
    "        return self\n",
    "    \n",
    "    def __next__(self):\n",
    "        \"\"\"Return the next square number or raise StopIteration when done.\"\"\"\n",
    "        # Check if the next index is still within range\n",
    "        if self.__index < self.__value-1:\n",
    "            self.__index += 1\n",
    "            return self.__index **2            \n",
    "\n",
    "        # If limit reached, raise StopIteration to stop iteration\n",
    "        raise StopIteration()\n",
    "    \n",
    "    def _reset(self):\n",
    "        \"\"\"Reset the iterator index to start over.\"\"\"\n",
    "        self.__index = 0 "
   ]
  },
  {
   "cell_type": "markdown",
   "id": "d1dffa0e",
   "metadata": {},
   "source": [
    "### Demonstrating different ways to access values from iterator"
   ]
  },
  {
   "cell_type": "code",
   "execution_count": 17,
   "id": "f7f75322",
   "metadata": {},
   "outputs": [
    {
     "name": "stdout",
     "output_type": "stream",
     "text": [
      "1\n",
      "4\n",
      "9\n",
      "16\n",
      "25\n"
     ]
    }
   ],
   "source": [
    "\"\"\"\n",
    "1. Directly calling next() without using iter() \n",
    "Works because our class defines both __iter__() and __next__()\n",
    "\"\"\"\n",
    "squares = SquareIterator(6)  # Create iterator for squares up to 5\n",
    "print(next(squares))   # 1^2 = 1\n",
    "print(next(squares))   # 2^2 = 4\n",
    "print(next(squares))   # 3^2 = 9\n",
    "print(next(squares))   # 4^2 = 16\n",
    "print(next(squares))   # 5^2 = 25\n",
    "# The next call would raise StopIteration"
   ]
  },
  {
   "cell_type": "code",
   "execution_count": 18,
   "id": "1e5e584e",
   "metadata": {},
   "outputs": [
    {
     "name": "stdout",
     "output_type": "stream",
     "text": [
      "1\n",
      "4\n",
      "9\n",
      "16\n",
      "25\n"
     ]
    }
   ],
   "source": [
    "\"\"\"\n",
    "2. Calling next() after creating an iterator using iter()\n",
    "When we call iter(), it resets the sequence and starts again.\n",
    "\"\"\"\n",
    "it = iter(squares)\n",
    "print(next(it))    # Output: 1  (starts again from 1^2)\n",
    "print(next(it))    \n",
    "print(next(it))    \n",
    "print(next(it))    \n",
    "print(next(it))   \n",
    "# Next call would again raise StopIteration"
   ]
  },
  {
   "cell_type": "code",
   "execution_count": 19,
   "id": "deac4682",
   "metadata": {},
   "outputs": [
    {
     "name": "stdout",
     "output_type": "stream",
     "text": [
      "1\n",
      "4\n",
      "9\n",
      "16\n",
      "25\n"
     ]
    }
   ],
   "source": [
    "\"\"\"\n",
    "3. Using a for loop (Python handles iter() and next() automatically)\n",
    "The loop calls iter(squares) internally, then repeatedly calls next()\n",
    "\"\"\"\n",
    "for i in squares:  \n",
    "    print(i)       \n",
    "# The for-loop catches StopIteration internally, so no error is raised."
   ]
  },
  {
   "cell_type": "code",
   "execution_count": 20,
   "id": "7d701e88",
   "metadata": {},
   "outputs": [
    {
     "name": "stdout",
     "output_type": "stream",
     "text": [
      "['__add__', '__class__', '__class_getitem__', '__contains__', '__delattr__', '__delitem__', '__dir__', '__doc__', '__eq__', '__format__', '__ge__', '__getattribute__', '__getitem__', '__getstate__', '__gt__', '__hash__', '__iadd__', '__imul__', '__init__', '__init_subclass__', '__iter__', '__le__', '__len__', '__lt__', '__mul__', '__ne__', '__new__', '__reduce__', '__reduce_ex__', '__repr__', '__reversed__', '__rmul__', '__setattr__', '__setitem__', '__sizeof__', '__str__', '__subclasshook__', 'append', 'clear', 'copy', 'count', 'extend', 'index', 'insert', 'pop', 'remove', 'reverse', 'sort']\n",
      "['__class__', '__delattr__', '__dir__', '__doc__', '__eq__', '__format__', '__ge__', '__getattribute__', '__getstate__', '__gt__', '__hash__', '__init__', '__init_subclass__', '__iter__', '__le__', '__length_hint__', '__lt__', '__ne__', '__new__', '__next__', '__reduce__', '__reduce_ex__', '__repr__', '__setattr__', '__setstate__', '__sizeof__', '__str__', '__subclasshook__']\n",
      "Type comparison:\n",
      "<class 'list'>\n",
      "<class 'list_iterator'>\n",
      "False\n"
     ]
    }
   ],
   "source": [
    "#   Comparing with built-in iterables (like lists)\n",
    "a = [1,5,7,9]  # list -> iterable but not iterator\n",
    "\n",
    "print(dir(a))  # shows methods; contains '__iter__' but not '__next__'\n",
    "\n",
    "b = iter(a)    # creates a list_iterator object (an actual iterator)\n",
    "print(dir(b))  # now has both '__iter__' and '__next__'\n",
    "\n",
    "print(\"Type comparison:\")\n",
    "print(type(a)) # <class 'list'> → iterable\n",
    "print(type(b)) # <class 'list_iterator'> → iterator\n",
    "print(a is b) # False -> separate objects in memory"
   ]
  },
  {
   "cell_type": "code",
   "execution_count": 21,
   "id": "eebff98c",
   "metadata": {},
   "outputs": [
    {
     "name": "stdout",
     "output_type": "stream",
     "text": [
      "1\n",
      "5\n",
      "7\n",
      "9\n"
     ]
    }
   ],
   "source": [
    "# Demonstrating how the iterator works for lists\n",
    "print(next(b))\n",
    "print(next(b))\n",
    "print(next(b))\n",
    "print(next(b))\n",
    "\n",
    "# print(next(a)) # print(next(a))  # Error: 'list' object is not an iterator"
   ]
  },
  {
   "cell_type": "markdown",
   "id": "59dccfcb",
   "metadata": {},
   "source": [
    "### Key Takeaways:\n",
    "- Custom iterator classes can be both iterable and iterator.\n",
    "- Built-in collections need iter() to get an iterator.\n",
    "- for-loops automatically handle both iter() and next().\n",
    "- If __iter__() returns self, you can directly use next() on the same object."
   ]
  },
  {
   "cell_type": "code",
   "execution_count": 22,
   "id": "b0ffd056",
   "metadata": {},
   "outputs": [
    {
     "data": {
      "text/plain": [
       "\"\\n# BENEFITS OF RESET:\\n# By calling _reset() inside __iter__(), we ensure that:\\n# - Every new call to iter(squares) starts a *fresh* iteration sequence.\\n# - The same iterator object can be reused without manually resetting it.\\n# - This behavior mimics built-in iterable types (like lists or ranges),\\n#   where each new 'iter()' call begins iteration from the start.\\n\\n# Without the _reset() call:\\n# - The iterator would continue from its previous state,\\n#   meaning repeated calls to iter(squares) would NOT restart from 0.\\n# - We will need to manually call _reset() to start over.\\n\""
      ]
     },
     "execution_count": 22,
     "metadata": {},
     "output_type": "execute_result"
    }
   ],
   "source": [
    "'''\n",
    "# BENEFITS OF RESET:\n",
    "# By calling _reset() inside __iter__(), we ensure that:\n",
    "# - Every new call to iter(squares) starts a *fresh* iteration sequence.\n",
    "# - The same iterator object can be reused without manually resetting it.\n",
    "# - This behavior mimics built-in iterable types (like lists or ranges),\n",
    "#   where each new 'iter()' call begins iteration from the start.\n",
    "\n",
    "# Without the _reset() call:\n",
    "# - The iterator would continue from its previous state,\n",
    "#   meaning repeated calls to iter(squares) would NOT restart from 0.\n",
    "# - We will need to manually call _reset() to start over.\n",
    "'''"
   ]
  },
  {
   "cell_type": "markdown",
   "id": "2590433b",
   "metadata": {},
   "source": []
  },
  {
   "cell_type": "markdown",
   "id": "3030c7c2",
   "metadata": {},
   "source": [
    "## **Generator Function**\n",
    "- A generator function that yields squares of numbers from 1 up to (value - 1).\n",
    "    - No need for a class or explicit __iter__/__next__ methods.\n",
    "    - The function automatically remembers its state between yields.\n",
    "    - When all values are yielded, Python automatically raises StopIteration.\n"
   ]
  },
  {
   "cell_type": "code",
   "execution_count": 23,
   "id": "05188b96",
   "metadata": {},
   "outputs": [],
   "source": [
    "def _validate_input(value):\n",
    "    \"\"\"Validate the input value to ensure it's a positive integer.\"\"\"\n",
    "    if not isinstance(value, int):\n",
    "        raise TypeError(\"Value type must be int\")\n",
    "    if value < 1:\n",
    "        raise TypeError(\"Value must be greater than zero\")\n",
    "    return value\n",
    "\n",
    "def square_generator(value):\n",
    "    v = _validate_input(value)\n",
    "    for i in range(1,v):\n",
    "        yield i**2  # 'yield' pauses and resumes function state each call"
   ]
  },
  {
   "cell_type": "code",
   "execution_count": 24,
   "id": "21e72bcb",
   "metadata": {},
   "outputs": [
    {
     "name": "stdout",
     "output_type": "stream",
     "text": [
      "1\n",
      "4\n",
      "9\n"
     ]
    }
   ],
   "source": [
    "generator = square_generator(4)\n",
    "print(next(generator))\n",
    "print(next(generator))\n",
    "print(next(generator))\n",
    "# Next call to next(generator) would raise StopIteration automatically"
   ]
  },
  {
   "cell_type": "markdown",
   "id": "585e45be",
   "metadata": {},
   "source": [
    "## **Difference (Iterator vs Generator):**\n",
    "1. **Iterator**: \n",
    "   - Implemented using a class with __iter__() and __next__() methods.\n",
    "   - Maintains its internal state using instance variables.\n",
    "   - Must explicitly raise StopIteration to signal the end of iteration.\n",
    "   \n",
    "2. **Generator**:\n",
    "   - Implemented using a function with the 'yield' keyword.\n",
    "   - Automatically handles iteration state and StopIteration internally.\n",
    "   - More concise and memory-efficient for simple iteration logic."
   ]
  }
 ],
 "metadata": {
  "kernelspec": {
   "display_name": "Python 3",
   "language": "python",
   "name": "python3"
  },
  "language_info": {
   "codemirror_mode": {
    "name": "ipython",
    "version": 3
   },
   "file_extension": ".py",
   "mimetype": "text/x-python",
   "name": "python",
   "nbconvert_exporter": "python",
   "pygments_lexer": "ipython3",
   "version": "3.12.9"
  }
 },
 "nbformat": 4,
 "nbformat_minor": 5
}
