{
 "cells": [
  {
   "cell_type": "markdown",
   "id": "dc1f27e4",
   "metadata": {},
   "source": [
    "### Class Method as Alternative Constructor"
   ]
  },
  {
   "cell_type": "code",
   "execution_count": 10,
   "id": "4661bc7e",
   "metadata": {},
   "outputs": [
    {
     "data": {
      "text/plain": [
       "'\\nNormally, an object\\'s constructor (__init__) is called directly:\\n      obj = ClassName(args)\\nBut sometimes we want to create objects in a different way \\n(for example, from a string, a dictionary, or a file).\\n\\nIn such cases, we use a @classmethod to act as an \\n\"alternative constructor\" — it creates and returns a new instance \\nof the class using cls().\\n'"
      ]
     },
     "execution_count": 10,
     "metadata": {},
     "output_type": "execute_result"
    }
   ],
   "source": [
    "'''\n",
    "Normally, an object's constructor (__init__) is called directly:\n",
    "      obj = ClassName(args)\n",
    "But sometimes we want to create objects in a different way \n",
    "(for example, from a string, a dictionary, or a file).\n",
    "\n",
    "In such cases, we use a @classmethod to act as an \n",
    "\"alternative constructor\" — it creates and returns a new instance \n",
    "of the class using cls().\n",
    "'''"
   ]
  },
  {
   "cell_type": "code",
   "execution_count": 11,
   "id": "638598bc",
   "metadata": {},
   "outputs": [],
   "source": [
    "class Person:\n",
    "    def __init__(self,name,age):\n",
    "        # Initialize object with given name and age\n",
    "        self.name = name\n",
    "        self.age = age\n",
    "    \n",
    "    def display_info(self):\n",
    "        # Display the object's information\n",
    "        print(f\"Name: {self.name}, Age: {self.age}\")\n",
    "        \n",
    "    @classmethod\n",
    "    def comma_separated(cls,string):\n",
    "        \"\"\"\n",
    "        Alternative constructor that creates a Person object \n",
    "        from a comma-separated string like \"Ali,19\".\n",
    "        \"\"\"\n",
    "        # Split the string into parts: ['Ali', '19']        \n",
    "        split_string = string.split(\",\")\n",
    "        \n",
    "                # Extract values from the split parts\n",
    "        name = split_string[0]\n",
    "        age = split_string[1]\n",
    "        \n",
    "                # Return a new Person object by calling cls()\n",
    "        # (equivalent to: return Person(name, age))\n",
    "        return cls(name, age)"
   ]
  },
  {
   "cell_type": "code",
   "execution_count": 12,
   "id": "17a3816b",
   "metadata": {},
   "outputs": [
    {
     "name": "stdout",
     "output_type": "stream",
     "text": [
      "Name: Ali, Age: 19\n"
     ]
    }
   ],
   "source": [
    "# Normal object creation \n",
    "p1 = Person(\"Ali\",19)\n",
    "p1.display_info()"
   ]
  },
  {
   "cell_type": "code",
   "execution_count": 13,
   "id": "24d568e5",
   "metadata": {},
   "outputs": [
    {
     "name": "stdout",
     "output_type": "stream",
     "text": [
      "Name: Sameer, Age: 22\n"
     ]
    }
   ],
   "source": [
    "# Creating object using class method (alternative constructor)\n",
    "p2 = Person.comma_separated(\"Sameer,22\")\n",
    "p2.display_info()"
   ]
  }
 ],
 "metadata": {
  "kernelspec": {
   "display_name": "Python 3",
   "language": "python",
   "name": "python3"
  },
  "language_info": {
   "codemirror_mode": {
    "name": "ipython",
    "version": 3
   },
   "file_extension": ".py",
   "mimetype": "text/x-python",
   "name": "python",
   "nbconvert_exporter": "python",
   "pygments_lexer": "ipython3",
   "version": "3.12.9"
  }
 },
 "nbformat": 4,
 "nbformat_minor": 5
}
