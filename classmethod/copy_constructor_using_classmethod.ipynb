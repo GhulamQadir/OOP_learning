{
 "cells": [
  {
   "cell_type": "markdown",
   "id": "50fc820f",
   "metadata": {},
   "source": [
    "## Copy Constructor"
   ]
  },
  {
   "cell_type": "code",
   "execution_count": 5,
   "id": "a464c720",
   "metadata": {},
   "outputs": [],
   "source": [
    "class StudentList:\n",
    "    def __init__(self, capacity=5):\n",
    "        # Initialize object with a given capacity (default = 5)\n",
    "        self.capacity = capacity \n",
    "\n",
    "        # Private attribute to hold list of students\n",
    "        self.__students = []  \n",
    "        \n",
    "    @property\n",
    "    def students(self):\n",
    "        # Getter method to safely access the private list\n",
    "        return self.__students\n",
    "    \n",
    "    def add(self,stud):\n",
    "        # Add a new student to the private students list\n",
    "        self.__students.append(stud)\n",
    "    \n",
    "    @classmethod    \n",
    "    def copy(cls, obj):\n",
    "        \"\"\"\n",
    "        Class method acting as a 'copy constructor'.\n",
    "        It creates a new object of the same class\n",
    "        and copies all data from the given object.\n",
    "        \"\"\"\n",
    "        \n",
    "        # Make a new list of students (a shallow 'element-wise' copy)\n",
    "        # This ensures the new object has a separate list in memory,\n",
    "        # not a reference to the same list.\n",
    "        students = [std for std in obj.students] # deep copy of students list\n",
    "        \n",
    "                # Create a new StudentList object with the same capacity\n",
    "        object = cls(obj.capacity)\n",
    "        \n",
    "                # Assign the copied student list to the private variable\n",
    "        # Using name mangling to access private attribute safely\n",
    "        object._StudentList__students = students\n",
    "        return object"
   ]
  },
  {
   "cell_type": "code",
   "execution_count": 6,
   "id": "4fc56852",
   "metadata": {},
   "outputs": [],
   "source": [
    "list1 = StudentList(10)\n",
    "list1.add(\"Shahzaib\")\n",
    "list1.add(\"Taha\")\n",
    "list1.add(\"Zubair\")"
   ]
  },
  {
   "cell_type": "code",
   "execution_count": 7,
   "id": "4259975b",
   "metadata": {},
   "outputs": [
    {
     "name": "stdout",
     "output_type": "stream",
     "text": [
      "10\n",
      "['Shahzaib', 'Taha', 'Zubair']\n",
      "False\n"
     ]
    }
   ],
   "source": [
    "list2 = list1.copy(list1)\n",
    "# Printing capacity and copied students list\n",
    "print(list2.capacity)\n",
    "print(list2.students)\n",
    "\n",
    "# Checking if both objects share the same students list in memory\n",
    "# (If False → lists are independent; if True → both share same reference)\n",
    "print(list1.students is list2.students)"
   ]
  },
  {
   "cell_type": "code",
   "execution_count": 8,
   "id": "a19e1b6c",
   "metadata": {},
   "outputs": [
    {
     "name": "stdout",
     "output_type": "stream",
     "text": [
      "['Shahzaib', 'Taha', 'Zubair', 'Ali']\n",
      "['Shahzaib', 'Taha', 'Zubair']\n"
     ]
    }
   ],
   "source": [
    "# Modifying the copied list\n",
    "list2.add(\"Ali\")\n",
    "\n",
    "# Print both lists to verify deep copy-like behavior\n",
    "print(list2.students)\n",
    "print(list1.students)"
   ]
  }
 ],
 "metadata": {
  "kernelspec": {
   "display_name": "Python 3",
   "language": "python",
   "name": "python3"
  },
  "language_info": {
   "codemirror_mode": {
    "name": "ipython",
    "version": 3
   },
   "file_extension": ".py",
   "mimetype": "text/x-python",
   "name": "python",
   "nbconvert_exporter": "python",
   "pygments_lexer": "ipython3",
   "version": "3.12.9"
  }
 },
 "nbformat": 4,
 "nbformat_minor": 5
}
