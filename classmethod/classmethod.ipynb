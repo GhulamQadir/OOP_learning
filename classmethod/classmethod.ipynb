{
 "cells": [
  {
   "cell_type": "markdown",
   "id": "416b59ca",
   "metadata": {},
   "source": [
    "## **@classmethod**\n",
    "A class method is a method that is bound to the class, not to its instances.\n",
    "It can access and modify class-level variables that are shared among all instances of the class.\n",
    "\n",
    "It uses a special decorator @classmethod and takes cls (the class itself) as its first parameter instead of self."
   ]
  },
  {
   "cell_type": "code",
   "execution_count": 23,
   "id": "1224c7a7",
   "metadata": {},
   "outputs": [],
   "source": [
    "class Student:\n",
    "    # Class variable — shared by all instances of the class\n",
    "    school = \"ABC\"\n",
    "    def __init__(self,name):\n",
    "        self.__name = name\n",
    "    \n",
    "    @property \n",
    "    def name(self):\n",
    "        return self.__name\n",
    "    \n",
    "    # This version looks like it will update the class variable, but it actually doesn’t.\n",
    "    # Because we forgot to use @classmethod decorator.\n",
    "    # Python treats 'cls' here just like a normal parameter — it’s not automatically bound to the class.\n",
    "    def update_school(cls,updated_school):\n",
    "        cls.school = updated_school\n",
    "    \n",
    "    def display(self):\n",
    "        print(f\"Name: {self.name}, School: {self.school}\")"
   ]
  },
  {
   "cell_type": "code",
   "execution_count": 24,
   "id": "41401cac",
   "metadata": {},
   "outputs": [
    {
     "name": "stdout",
     "output_type": "stream",
     "text": [
      "Name: Shahzaib, School: ABC\n",
      "Name: Shahzaib, School: XYZ\n",
      "ABC\n"
     ]
    }
   ],
   "source": [
    "stud1 = Student(\"Shahzaib\")\n",
    "stud1.display()\n",
    "stud1.update_school(\"XYZ\") # Updates only instance-level 'school' for stud1\n",
    "stud1.display()\n",
    "print(Student.school) # Still \"ABC\" (class variable NOT updated)"
   ]
  },
  {
   "cell_type": "code",
   "execution_count": 25,
   "id": "2c9ac1fa",
   "metadata": {},
   "outputs": [],
   "source": [
    "class Student:\n",
    "    school = \"ABC\"\n",
    "    def __init__(self,name):\n",
    "        self.__name = name\n",
    "    \n",
    "    @property \n",
    "    def name(self):\n",
    "        return self.__name\n",
    "\n",
    "    def get_school(self):\n",
    "        \"\"\"\n",
    "        Prints the current school name associated with the object.\n",
    "        Even though 'school' is a class variable, it can be accessed via 'self'.\n",
    "        \"\"\"\n",
    "        print(self.school)\n",
    "        \n",
    "    @classmethod    \n",
    "    def update_school(cls,updated_school):\n",
    "        \"\"\"\n",
    "        Class method to update the class variable 'school'.\n",
    "        \n",
    "        Parameters:\n",
    "            cls: The class itself (automatically passed when the method is called)\n",
    "            updated_school (str): The new name to assign to the class variable 'school'\n",
    "\n",
    "        Note:\n",
    "            Using @classmethod ensures that the change affects the entire class\n",
    "            and all its instances — not just one object.\n",
    "        \"\"\"\n",
    "        cls.school = updated_school # Updates the class variable for all instances\n",
    "    \n",
    "    def display(self):\n",
    "        print(f\"Name: {self.name}, School: {self.school}\")"
   ]
  },
  {
   "cell_type": "code",
   "execution_count": 26,
   "id": "be172d43",
   "metadata": {},
   "outputs": [
    {
     "name": "stdout",
     "output_type": "stream",
     "text": [
      "Name: Shahzaib, School: ABC\n",
      "Name: Shahzaib, School: XYZ\n",
      "XYZ\n"
     ]
    }
   ],
   "source": [
    "stud1 = Student(\"Shahzaib\")\n",
    "stud1.display()\n",
    "stud1.update_school(\"XYZ\")\n",
    "stud1.display()\n",
    "print(stud1.school)     # Prints: XYZ (updated class variable)"
   ]
  }
 ],
 "metadata": {
  "kernelspec": {
   "display_name": "Python 3",
   "language": "python",
   "name": "python3"
  },
  "language_info": {
   "codemirror_mode": {
    "name": "ipython",
    "version": 3
   },
   "file_extension": ".py",
   "mimetype": "text/x-python",
   "name": "python",
   "nbconvert_exporter": "python",
   "pygments_lexer": "ipython3",
   "version": "3.12.9"
  }
 },
 "nbformat": 4,
 "nbformat_minor": 5
}
